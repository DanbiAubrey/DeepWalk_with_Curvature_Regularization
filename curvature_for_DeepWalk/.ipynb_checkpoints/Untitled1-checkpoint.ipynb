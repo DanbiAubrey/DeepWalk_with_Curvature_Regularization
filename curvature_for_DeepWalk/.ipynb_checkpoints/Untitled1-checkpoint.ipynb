{
 "cells": [
  {
   "cell_type": "code",
   "execution_count": 2,
   "id": "primary-reminder",
   "metadata": {},
   "outputs": [],
   "source": [
    "import torch\n",
    "\n",
    "t = torch.ones(1,1,28,28)"
   ]
  },
  {
   "cell_type": "code",
   "execution_count": 3,
   "id": "ambient-bones",
   "metadata": {},
   "outputs": [],
   "source": [
    "t = t.cuda()"
   ]
  },
  {
   "cell_type": "code",
   "execution_count": 5,
   "id": "developmental-midwest",
   "metadata": {},
   "outputs": [
    {
     "data": {
      "text/plain": [
       "device(type='cuda', index=0)"
      ]
     },
     "execution_count": 5,
     "metadata": {},
     "output_type": "execute_result"
    }
   ],
   "source": [
    "t.device"
   ]
  },
  {
   "cell_type": "code",
   "execution_count": 7,
   "id": "thorough-format",
   "metadata": {},
   "outputs": [],
   "source": [
    "t = t.cpu()"
   ]
  },
  {
   "cell_type": "code",
   "execution_count": 8,
   "id": "talented-ranking",
   "metadata": {},
   "outputs": [
    {
     "data": {
      "text/plain": [
       "device(type='cpu')"
      ]
     },
     "execution_count": 8,
     "metadata": {},
     "output_type": "execute_result"
    }
   ],
   "source": [
    "t.device"
   ]
  },
  {
   "cell_type": "code",
   "execution_count": 1,
   "id": "killing-barcelona",
   "metadata": {},
   "outputs": [],
   "source": [
    "items = {'cabbage' : 5000, 'Daikon' : 2000, 'Lettuce' : 3000}"
   ]
  },
  {
   "cell_type": "code",
   "execution_count": 4,
   "id": "adjacent-speaker",
   "metadata": {},
   "outputs": [
    {
     "name": "stdout",
     "output_type": "stream",
     "text": [
      "0\n",
      "1\n",
      "2\n"
     ]
    }
   ],
   "source": [
    "for index, (key, elem) in enumerate(items.items()):\n",
    "  print(index, key, elem)"
   ]
  },
  {
   "cell_type": "code",
   "execution_count": null,
   "id": "passive-arlington",
   "metadata": {},
   "outputs": [],
   "source": []
  }
 ],
 "metadata": {
  "kernelspec": {
   "display_name": "curvature_env",
   "language": "python",
   "name": "curvature_env"
  },
  "language_info": {
   "codemirror_mode": {
    "name": "ipython",
    "version": 3
   },
   "file_extension": ".py",
   "mimetype": "text/x-python",
   "name": "python",
   "nbconvert_exporter": "python",
   "pygments_lexer": "ipython3",
   "version": "3.7.10"
  }
 },
 "nbformat": 4,
 "nbformat_minor": 5
}
